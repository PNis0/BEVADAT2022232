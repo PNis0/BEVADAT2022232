{
 "cells": [
  {
   "cell_type": "code",
   "execution_count": 2,
   "metadata": {},
   "outputs": [],
   "source": [
    "import pandas as pd\n",
    "from sklearn.metrics import accuracy_score, confusion_matrix\n",
    "import math"
   ]
  },
  {
   "cell_type": "code",
   "execution_count": 3,
   "metadata": {},
   "outputs": [],
   "source": [
    "class KNNClassifier:\n",
    "    def __init__(self, k):\n",
    "        self.k = k\n",
    "        self.X_train = None\n",
    "        self.y_train = None\n",
    "        self.y_preds = None\n",
    "\n",
    "    def fit(self, X_train, y_train):\n",
    "        self.X_train = X_train\n",
    "        self.y_train = y_train\n",
    "\n",
    "    def euclidean_distance(self, row1, row2):\n",
    "        distance = 0.0\n",
    "        for i in range(len(row1)):\n",
    "            distance += (row1[i] - row2[i]) ** 2\n",
    "        return math.sqrt(distance)\n",
    "\n",
    "    def predict(self, X_test):\n",
    "        distances = []\n",
    "        targets = []\n",
    "        for i in range(len(self.X_train)):\n",
    "            distance = self.euclidean_distance(self.X_train.iloc[i], X_test)\n",
    "            distances.append([distance, i])\n",
    "        distances.sort()\n",
    "        for i in range(self.k):\n",
    "            index = distances[i][1]\n",
    "            targets.append(self.y_train.iloc[index])\n",
    "        self.y_preds = pd.Series(targets)\n",
    "\n",
    "    @staticmethod\n",
    "    def accuracy(y_test, y_preds):\n",
    "        return accuracy_score(y_test, y_preds)\n",
    "\n",
    "    @staticmethod\n",
    "    def confusion_matrix(y_test, y_preds):\n",
    "        return confusion_matrix(y_test, y_preds)\n",
    "        \n",
    "    @property\n",
    "    def k_neighbors(self):\n",
    "        return self.k"
   ]
  }
 ],
 "metadata": {
  "kernelspec": {
   "display_name": "Python 3",
   "language": "python",
   "name": "python3"
  },
  "language_info": {
   "codemirror_mode": {
    "name": "ipython",
    "version": 3
   },
   "file_extension": ".py",
   "mimetype": "text/x-python",
   "name": "python",
   "nbconvert_exporter": "python",
   "pygments_lexer": "ipython3",
   "version": "3.11.2"
  },
  "orig_nbformat": 4
 },
 "nbformat": 4,
 "nbformat_minor": 2
}
