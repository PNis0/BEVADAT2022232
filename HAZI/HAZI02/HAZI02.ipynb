{
 "cells": [
  {
   "cell_type": "code",
   "execution_count": 2,
   "metadata": {},
   "outputs": [],
   "source": [
    "import numpy as np"
   ]
  },
  {
   "cell_type": "code",
   "execution_count": null,
   "metadata": {},
   "outputs": [],
   "source": [
    "#FONTOS!!!\n",
    "\n",
    "# CSAK OTT LEHET HASZNÁLNI FOR LOOP-OT AHOL A FELADAT KÜLÖN KÉRI!\n",
    "# [1,2,3,4] --> ezek az értékek np.array-ek. Ahol listát kérek paraméterként ott külön ki fogom emelni!\n",
    "# Ha végeztél a feladatokkal, akkor notebook-ot alakítsd át .py.\n",
    "# A FÁJLBAN CSAK A FÜGGVÉNYEK LEGYENEK! (KOMMENTEK MARADHATNAK)"
   ]
  },
  {
   "cell_type": "code",
   "execution_count": null,
   "metadata": {},
   "outputs": [],
   "source": [
    "# Írj egy olyan fügvényt, ami megfordítja egy 2d array oszlopait. Bemenetként egy array-t vár.\n",
    "# Be: [[1,2],[3,4]]\n",
    "# Ki: [[2,1],[4,3]]\n",
    "# column_swap()"
   ]
  },
  {
   "cell_type": "code",
   "execution_count": 6,
   "metadata": {},
   "outputs": [],
   "source": [
    "def column_swap(array:np.array)->np.array:\n",
    "    return np.fliplr(array)"
   ]
  },
  {
   "cell_type": "code",
   "execution_count": null,
   "metadata": {},
   "outputs": [],
   "source": [
    "# Készíts egy olyan függvényt ami összehasonlít két array-t és adjon vissza egy array-ben, hogy hol egyenlőek \n",
    "# Pl Be: [7,8,9], [9,8,7] \n",
    "# Ki: [1]\n",
    "# compare_two_array()\n",
    "# egyenlő elemszámúakra kell csak hogy működjön"
   ]
  },
  {
   "cell_type": "code",
   "execution_count": 4,
   "metadata": {},
   "outputs": [],
   "source": [
    "def compare_two_array(arr1:np.array, arr2:np.array) -> np.array:\n",
    "    equal_indices = np.where(arr1 == arr2)[0]\n",
    "    return equal_indices"
   ]
  },
  {
   "cell_type": "code",
   "execution_count": null,
   "metadata": {},
   "outputs": [],
   "source": [
    "# Készíts egy olyan függvényt, ami vissza adja string-ként a megadott array dimenzióit:\n",
    "# Be: [[1,2,3], [4,5,6]]\n",
    "# Ki: \"sor: 2, oszlop: 3, melyseg: 1\"\n",
    "# get_array_shape()\n",
    "# 3D-vel még műküdnie kell!, "
   ]
  },
  {
   "cell_type": "code",
   "execution_count": 7,
   "metadata": {},
   "outputs": [],
   "source": [
    "def get_array_shape(arr:np.array)->np.array:\n",
    "    shape = np.shape(arr)\n",
    "    if len(shape) == 1:\n",
    "        return \"sor: {}, oszlop: {}, melyseg: 1\".format(shape[0], 1, 1)\n",
    "    elif len(shape) == 2:\n",
    "        return \"sor: {}, oszlop: {}, melyseg: 1\".format(shape[0], shape[1], 1)\n",
    "    elif len(shape) == 3:\n",
    "        return \"sor: {}, oszlop: {}, melyseg: {}\".format(shape[0], shape[1], shape[2])\n",
    "    else:\n",
    "        return \"A tömb dimenziója nem támogatott\""
   ]
  },
  {
   "cell_type": "code",
   "execution_count": null,
   "metadata": {},
   "outputs": [],
   "source": [
    "# Készíts egy olyan függvényt, aminek segítségével elő tudod állítani egy neurális hálózat tanításához szükséges pred-et egy numpy array-ből. \n",
    "# Bementként add meg az array-t, illetve hogy mennyi class-od van. Kimenetként pedig adjon vissza egy 2d array-t, ahol a sorok az egyes elemek. Minden nullákkal teli legyen és csak ott álljon egyes, ahol a bementi tömb megjelöli. \n",
    "# Pl. ha 1 van a bemeneten és 4 classod van, akkor az adott sorban az array-ban a [1] helyen álljon egy 1-es, a többi helyen pedig 0.\n",
    "# Be: [1, 2, 0, 3], 4\n",
    "# Ki: [[0,1,0,0], [0, 0, 1, 0], [1, 0, 0, 0], [0, 0, 0, 1]]\n",
    "# encode_Y()"
   ]
  },
  {
   "cell_type": "code",
   "execution_count": 8,
   "metadata": {},
   "outputs": [],
   "source": [
    "def encode_Y(arr:np.array, num_classes) ->np.array:\n",
    "    encoded_arr = np.zeros((len(arr), num_classes))\n",
    "    for i in range(len(arr)):\n",
    "        encoded_arr[i][arr[i]] = 1\n",
    "    return encoded_arr"
   ]
  },
  {
   "cell_type": "code",
   "execution_count": null,
   "metadata": {},
   "outputs": [],
   "source": [
    "# A fenti feladatnak valósítsd meg a kiértékelését. Adj meg a 2d array-t és adj vissza a decodolt változatát\n",
    "# Be:  [[0,1,0,0], [0, 0, 1, 0], [1, 0, 0, 0], [0, 0, 0, 1]]\n",
    "# Ki:  [1, 2, 0, 3]\n",
    "# decode_Y()"
   ]
  },
  {
   "cell_type": "code",
   "execution_count": 9,
   "metadata": {},
   "outputs": [],
   "source": [
    "def decode_Y(y:np.array) ->np.array:\n",
    "    decoded_y = np.argmax(y, axis=1)\n",
    "    return decoded_y"
   ]
  },
  {
   "cell_type": "code",
   "execution_count": null,
   "metadata": {},
   "outputs": [],
   "source": [
    "# Készíts egy olyan függvényt, ami képes kiértékelni egy neurális háló eredményét! Bemenetként egy listát és egy array-t és adja vissza azt az elemet, aminek a legnagyobb a valószínüsége(értéke) a listából.\n",
    "# Be: ['alma', 'körte', 'szilva'], [0.2, 0.2, 0.6]. # Az ['alma', 'körte', 'szilva'] egy lista!\n",
    "# Ki: 'szilva'\n",
    "# eval_classification()"
   ]
  },
  {
   "cell_type": "code",
   "execution_count": 13,
   "metadata": {},
   "outputs": [],
   "source": [
    "def eval_classification(labels, predictions:np.array)->np.array:\n",
    "    max_index = np.argmax(predictions)\n",
    "    return labels[max_index]"
   ]
  },
  {
   "cell_type": "code",
   "execution_count": null,
   "metadata": {},
   "outputs": [],
   "source": [
    "# Készíts egy olyan függvényt, ahol az 1D array-ben a páratlan számokat -1-re cseréli\n",
    "# Be: [1,2,3,4,5,6]\n",
    "# Ki: [-1,2,-1,4,-1,6]\n",
    "# replace_odd_numbers()"
   ]
  },
  {
   "cell_type": "code",
   "execution_count": 14,
   "metadata": {},
   "outputs": [],
   "source": [
    "def replace_odd_numbers(arr:np.array)->np.array:\n",
    "    new_arr = np.copy(arr)\n",
    "    new_arr[arr % 2 == 1] = -1\n",
    "    \n",
    "    return new_arr"
   ]
  },
  {
   "cell_type": "code",
   "execution_count": null,
   "metadata": {},
   "outputs": [],
   "source": [
    "# Készíts egy olyan függvényt, ami egy array értékeit -1 és 1-re változtatja, attól függően, hogy az adott elem nagyobb vagy kisebb a paraméterként megadott számnál.\n",
    "# Ha a szám kisebb mint a megadott érték, akkor -1, ha nagyobb vagy egyenlő, akkor pedig 1.\n",
    "# Be: [1, 2, 5, 0], 2\n",
    "# Ki: [-1, 1, 1, -1]\n",
    "# replace_by_value()"
   ]
  },
  {
   "cell_type": "code",
   "execution_count": 15,
   "metadata": {},
   "outputs": [],
   "source": [
    "def replace_by_value(arr:np.array, value)->np.array:\n",
    "    arr = np.where(arr < value, -1, 1)\n",
    "    return arr"
   ]
  },
  {
   "cell_type": "code",
   "execution_count": null,
   "metadata": {},
   "outputs": [],
   "source": [
    "# Készíts egy olyan függvényt, ami egy array értékeit összeszorozza és az eredményt visszaadja\n",
    "# Be: [1,2,3,4]\n",
    "# Ki: 24\n",
    "# array_multi()\n",
    "# Ha több dimenziós a tömb, akkor az egész tömb elemeinek szorzatával térjen vissza"
   ]
  },
  {
   "cell_type": "code",
   "execution_count": 16,
   "metadata": {},
   "outputs": [],
   "source": [
    "def array_multi(arr:np.array)->np.array:\n",
    "    return np.prod(arr)"
   ]
  },
  {
   "cell_type": "code",
   "execution_count": null,
   "metadata": {},
   "outputs": [],
   "source": [
    "# Készíts egy olyan függvényt, ami egy 2D array értékeit összeszorozza és egy olyan array-el tér vissza, aminek az elemei a soroknak a szorzata\n",
    "# Be: [[1, 2], [3, 4]]\n",
    "# Ki: [2, 12]\n",
    "# array_multi_2d()"
   ]
  },
  {
   "cell_type": "code",
   "execution_count": 17,
   "metadata": {},
   "outputs": [],
   "source": [
    "def array_multi_2d(arr:np.array)->np.array:\n",
    "    return np.product(arr, axis=1)"
   ]
  },
  {
   "cell_type": "code",
   "execution_count": null,
   "metadata": {},
   "outputs": [],
   "source": [
    "# Készíts egy olyan függvényt, amit egy meglévő numpy array-hez készít egy bordert nullásokkal. Bementként egy array-t várjon és kimenetként egy array jelenjen meg aminek van border-je\n",
    "# Be: [[1,2],[3,4]]\n",
    "# Ki: [[0,0,0,0],[0,1,2,0],[0,3,4,0],[0,0,0,0]]\n",
    "# add_border()\n"
   ]
  },
  {
   "cell_type": "code",
   "execution_count": 23,
   "metadata": {},
   "outputs": [],
   "source": [
    "def add_border(arr:np.array)->np.array:\n",
    "    rows, cols = arr.shape\n",
    "    new_arr = np.zeros((rows + 2, cols + 2))\n",
    "    new_arr[1:-1, 1:-1] = arr\n",
    "    \n",
    "    return new_arr"
   ]
  },
  {
   "cell_type": "code",
   "execution_count": null,
   "metadata": {},
   "outputs": [],
   "source": [
    "# A KÖTVETKEZŐ FELADATOKHOZ NÉZZÉTEK MEG A NUMPY DATA TYPE-JÁT!"
   ]
  },
  {
   "cell_type": "code",
   "execution_count": null,
   "metadata": {},
   "outputs": [],
   "source": [
    "# Készíts egy olyan függvényt ami két dátum között felsorolja az összes napot és ezt adja vissza egy numpy array-ben. A fgv ként str vár paraméterként 'YYYY-MM' formában.\n",
    "# Be: '2023-03', '2023-04'  # mind a kettő paraméter str.\n",
    "# Ki: ['2023-03-01', '2023-03-02', .. , '2023-03-31',]\n",
    "# list_days()"
   ]
  },
  {
   "cell_type": "code",
   "execution_count": 19,
   "metadata": {},
   "outputs": [],
   "source": [
    "def list_days(start_date, end_date):\n",
    "    start = np.datetime64(start_date)\n",
    "    end = np.datetime64(end_date)\n",
    "    days = np.arange(start, end + np.timedelta64(1, 'D'), np.timedelta64(1, 'D'))\n",
    "    return np.array([str(day) for day in days])"
   ]
  },
  {
   "cell_type": "code",
   "execution_count": null,
   "metadata": {},
   "outputs": [],
   "source": [
    "# Írj egy fügvényt ami vissza adja az aktuális dátumot az alábbi formában: YYYY-MM-DD. Térjen vissza egy 'numpy.datetime64' típussal.\n",
    "# Be:\n",
    "# Ki: 2017-03-24\n",
    "# get_act_date()"
   ]
  },
  {
   "cell_type": "code",
   "execution_count": 21,
   "metadata": {},
   "outputs": [],
   "source": [
    "def get_act_date():\n",
    "    return np.datetime64('today')"
   ]
  },
  {
   "cell_type": "code",
   "execution_count": null,
   "metadata": {},
   "outputs": [],
   "source": [
    "# Írj egy olyan függvényt ami visszadja, hogy mennyi másodperc telt el 1970 január 01. 00:02:00 óta. Int-el térjen vissza\n",
    "# Be: \n",
    "# Ki: másodpercben az idó, int-é kasztolva\n",
    "# sec_from_1970()"
   ]
  },
  {
   "cell_type": "code",
   "execution_count": 5,
   "metadata": {},
   "outputs": [],
   "source": [
    "def sec_from_1970():\n",
    "    start_time = np.datetime64('1970-01-01T00:02:00')\n",
    "    current_time = np.datetime64('now')\n",
    "    elapsed_time = (current_time - start_time) / np.timedelta64(1, 's')\n",
    "    return int(elapsed_time)"
   ]
  }
 ],
 "metadata": {
  "kernelspec": {
   "display_name": "Python 3",
   "language": "python",
   "name": "python3"
  },
  "language_info": {
   "codemirror_mode": {
    "name": "ipython",
    "version": 3
   },
   "file_extension": ".py",
   "mimetype": "text/x-python",
   "name": "python",
   "nbconvert_exporter": "python",
   "pygments_lexer": "ipython3",
   "version": "3.11.2"
  },
  "orig_nbformat": 4
 },
 "nbformat": 4,
 "nbformat_minor": 2
}
