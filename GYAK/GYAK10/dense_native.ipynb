{
  "cells": [
    {
      "cell_type": "code",
      "execution_count": 1,
      "metadata": {
        "id": "u2KPPpxIR68N"
      },
      "outputs": [],
      "source": [
        "import numpy as np"
      ]
    },
    {
      "cell_type": "code",
      "execution_count": 10,
      "metadata": {
        "id": "cCYB_GSWR68R"
      },
      "outputs": [],
      "source": [
        "class Dense:\n",
        "    \"\"\"A fully-connected NN layer.\n",
        "    Parameters:\n",
        "    -----------\n",
        "    n_output: int\n",
        "        The number of neurons in the layer.\n",
        "    n_input: int\n",
        "        The expected input shape of the layer. For dense layers a single digit specifying\n",
        "        the number of features of the input. Must be specified if it is the first layer in\n",
        "        the network.\n",
        "    \"\"\"\n",
        "\n",
        "    def __init__(self, n_output, n_input=None):\n",
        "        self.layer_input = None\n",
        "        self.n_input = n_input\n",
        "        self.n_output = n_output\n",
        "        # self.trainable = True\n",
        "        self.W = None\n",
        "        self.bias = None\n",
        "        self.initialize()\n",
        "\n",
        "    def initialize(self):\n",
        "        # Initialize the weights\n",
        "        np.random.seed(42)\n",
        "        self.W = np.random.normal(0.0, 1, (self.n_input, self.n_output))\n",
        "        self.bias = np.random.random(size=(self.n_output))\n",
        "\n",
        "    def forward_pass_a(self, X):\n",
        "       resultArray= np.matmul(X,self.W)\n",
        "       return resultArray+self.bias\n",
        "       pass"
      ]
    },
    {
      "cell_type": "code",
      "execution_count": 11,
      "metadata": {
        "id": "yj1pUR1PR68S",
        "outputId": "4dfc2582-41f3-46c1-d4c5-5b2752b5fd8e"
      },
      "outputs": [
        {
          "name": "stdout",
          "output_type": "stream",
          "text": [
            "[[ 12.27231674  -9.584845   -11.42437206]]\n"
          ]
        }
      ],
      "source": [
        "input_data = np.array([[1, 2, 3, 4, 5]])\n",
        "layer = Dense(3, n_input=5)\n",
        "\n",
        "output = layer.forward_pass_a(input_data)\n",
        "print(output)"
      ]
    },
    {
      "cell_type": "code",
      "execution_count": 12,
      "metadata": {
        "id": "aqkjwD_rR68S"
      },
      "outputs": [],
      "source": [
        "class ReLU():\n",
        "    def forward_pass(self, x):\n",
        "        return np.where(x >= 0, x, 0)"
      ]
    },
    {
      "cell_type": "code",
      "execution_count": 13,
      "metadata": {
        "id": "zAbc2UPqR68T",
        "outputId": "86c621e0-8ebb-40cd-c8c7-30b0ecbb8fab"
      },
      "outputs": [
        {
          "name": "stdout",
          "output_type": "stream",
          "text": [
            "[[12.27231674  0.          0.        ]]\n"
          ]
        }
      ],
      "source": [
        "activation = ReLU()\n",
        "print(activation.forward_pass(output))"
      ]
    }
  ],
  "metadata": {
    "colab": {
      "provenance": []
    },
    "kernelspec": {
      "display_name": "Python 3.11.0 64-bit",
      "language": "python",
      "name": "python3"
    },
    "language_info": {
      "codemirror_mode": {
        "name": "ipython",
        "version": 3
      },
      "file_extension": ".py",
      "mimetype": "text/x-python",
      "name": "python",
      "nbconvert_exporter": "python",
      "pygments_lexer": "ipython3",
      "version": "3.10.3"
    },
    "orig_nbformat": 4,
    "vscode": {
      "interpreter": {
        "hash": "9cefe38f745df9e33a66570f2e5a410ba71c4ae3bf929b6ad1b474ac5f904d76"
      }
    }
  },
  "nbformat": 4,
  "nbformat_minor": 0
}