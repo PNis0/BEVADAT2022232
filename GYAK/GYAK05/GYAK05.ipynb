{
 "cells": [
  {
   "cell_type": "code",
   "execution_count": 59,
   "metadata": {},
   "outputs": [],
   "source": [
    "import numpy as np\n",
    "import seaborn as sns\n",
    "from typing import Tuple\n",
    "from scipy.stats import mode\n",
    "from sklearn.metrics import confusion_matrix\n",
    "\n",
    "\n",
    "# csv_path = './archive/iris.csv'"
   ]
  },
  {
   "cell_type": "code",
   "execution_count": 60,
   "metadata": {},
   "outputs": [],
   "source": [
    "class KNNClassifier:\n",
    "    \n",
    "    def __init__(self, k:int, test_split_ratio:float):\n",
    "        self.k = k\n",
    "        self.test_split_ratio = test_split_ratio\n",
    "        self.x_train = None\n",
    "        self.y_train = None\n",
    "        self.x_test = None\n",
    "        self.y_test = None\n",
    "\n",
    "    @property\n",
    "    def k_neighbors(self):\n",
    "        return self.k\n",
    "    \n",
    "    @staticmethod\n",
    "    def load_csv(self, csv_path:str) -> Tuple[np.ndarray, np.ndarray]:\n",
    "        np.random.seed(42)\n",
    "        dataset = np.genfromtxt(csv_path, delimiter=',')\n",
    "        np.random.shuffle(dataset)\n",
    "        x, y = dataset[:,:4], dataset[:,-1]\n",
    "        x[np.isnan(x)] = 3.5\n",
    "        x = np.delete(x, np.where(np.logical_or(x > 13.0, x < 0.0))[0], axis=0)\n",
    "        y = np.delete(y, np.where(np.logical_or(x > 13.0, x < 0.0))[0], axis=0)\n",
    "        self.train_test_split(x, y)\n",
    "        \n",
    "    \n",
    "    def train_test_split(self, features: np.ndarray, labels: np.ndarray) -> None:\n",
    "        test_size = int(len(features) * self.test_split_ratio)\n",
    "        train_size = len(features) - test_size\n",
    "        assert len(features) == test_size + train_size, \"Size mismatch!\"\n",
    "\n",
    "        self.x_train, self.y_train = features[:train_size, :], labels[:train_size]\n",
    "        self.x_test, self.y_test = features[train_size:train_size + test_size, :], labels[train_size:train_size + test_size]\n",
    "\n",
    "\n",
    "    def euclidean(self, element_of_x: np.ndarray) -> np.ndarray:\n",
    "        return np.sqrt(np.sum((self.x_train - element_of_x) ** 2, axis=1))\n",
    "\n",
    "    def predict(self):\n",
    "        self.y_preds = []\n",
    "        for element_of_x in self.x_test:\n",
    "            distances = self.euclidean(element_of_x)\n",
    "            sorted_distances_indices = np.argsort(distances)\n",
    "            k_nearest_labels = self.y_train[sorted_distances_indices[:self.k]]\n",
    "            most_common_label = np.argmax(np.bincount(k_nearest_labels.astype(int)))\n",
    "            self.y_preds.append(most_common_label)\n",
    "        return self.y_preds\n",
    "\n",
    "    def accuracy(self):\n",
    "        correct_predictions = np.sum(self.y_preds == self.y_test)\n",
    "        accuracy = correct_predictions / len(self.y_test)\n",
    "        return accuracy\n",
    "\n",
    "    def confusion_matrix(self):\n",
    "        return confusion_matrix(self.y_test, self.y_preds) "
   ]
  }
 ],
 "metadata": {
  "kernelspec": {
   "display_name": "Python 3",
   "language": "python",
   "name": "python3"
  },
  "language_info": {
   "codemirror_mode": {
    "name": "ipython",
    "version": 3
   },
   "file_extension": ".py",
   "mimetype": "text/x-python",
   "name": "python",
   "nbconvert_exporter": "python",
   "pygments_lexer": "ipython3",
   "version": "3.11.2"
  },
  "orig_nbformat": 4
 },
 "nbformat": 4,
 "nbformat_minor": 2
}
