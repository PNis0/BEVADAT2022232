{
  "cells": [
    {
      "cell_type": "markdown",
      "metadata": {
        "id": "jXiv-ZxQuu5E"
      },
      "source": [
        "# Logistic Regression"
      ]
    },
    {
      "cell_type": "markdown",
      "metadata": {
        "id": "_gnrw3l5uu5H"
      },
      "source": [
        "Logistic Regression is a Machine Learning algorithm which is used for the classification problems, it is a predictive analysis algorithm and based on the concept of probability. The logistic function (also known as the sigmoid function) is used to transform the output of the linear model into a probability value between 0 and 1. The model is then fit to the training data by estimating the coefficients of the predictor variables that maximize the likelihood of the observed data. The model is then used to predict the probability of the target variable for new data."
      ]
    },
    {
      "cell_type": "markdown",
      "metadata": {
        "id": "y8Uvs_Qmuu5I"
      },
      "source": [
        "# Sigmoid Function"
      ]
    },
    {
      "cell_type": "markdown",
      "metadata": {
        "id": "rCuAhJsWuu5I"
      },
      "source": [
        "In order to map predicted values to probabilities, we use the Sigmoid function. The function maps any real value into another value between 0 and 1.\n",
        "\n",
        "$$\\sigma(x) = \\frac{1}{1+e^{-x}}$$\n",
        "\n",
        "<figure style=\"text-align:center;\">\n",
        "    <img src='https://miro.medium.com/v2/resize:fit:1400/1*JHWL_71qml0kP_Imyx4zBg.png' alt='sigmoid'/>\n",
        "</figure>\n",
        "\n",
        "The logistic function maps any input value to a value between 0 and 1, which can be interpreted as a probability. In logistic regression, the input to the logistic function is a linear combination of the predictor variables, which is given by:\n",
        "\n",
        "$$\\hat{y} = \\sigma(\\beta_0 + \\beta_1x_1 + \\beta_2x_2 + \\dots + \\beta_nx_n)$$\n",
        "\n",
        "where $\\hat{y}$ is the predicted probability of the target variable, $\\beta_0$ is the intercept, $\\beta_1$ is the coefficient of the first predictor variable, $\\beta_2$ is the coefficient of the second predictor variable, and so on. The logistic function is shown below."
      ]
    },
    {
      "cell_type": "code",
      "execution_count": 1,
      "metadata": {
        "id": "WirC4JJduu5J"
      },
      "outputs": [],
      "source": [
        "import pandas as pd\n",
        "\n",
        "from sklearn.linear_model import LogisticRegression\n",
        "from sklearn.datasets import load_iris\n",
        "from sklearn.model_selection import train_test_split\n",
        "from sklearn.metrics import accuracy_score"
      ]
    },
    {
      "cell_type": "code",
      "execution_count": 2,
      "metadata": {
        "id": "7o4DG1f9uu5J",
        "outputId": "0b735ec4-7737-4cc0-ab91-f2b675690421"
      },
      "outputs": [],
      "source": [
        "# Load the iris dataset\n",
        "iris = load_iris()"
      ]
    },
    {
      "cell_type": "code",
      "execution_count": 3,
      "metadata": {},
      "outputs": [
        {
          "data": {
            "text/plain": [
              "['DESCR',\n",
              " 'data',\n",
              " 'data_module',\n",
              " 'feature_names',\n",
              " 'filename',\n",
              " 'frame',\n",
              " 'target',\n",
              " 'target_names']"
            ]
          },
          "execution_count": 3,
          "metadata": {},
          "output_type": "execute_result"
        }
      ],
      "source": [
        "dir(iris)"
      ]
    },
    {
      "cell_type": "code",
      "execution_count": null,
      "metadata": {},
      "outputs": [],
      "source": [
        "# Inspect the dataset"
      ]
    },
    {
      "cell_type": "code",
      "execution_count": null,
      "metadata": {},
      "outputs": [],
      "source": [
        "# Load features and target\n",
        "X = ...\n",
        "y = ..."
      ]
    },
    {
      "cell_type": "code",
      "execution_count": null,
      "metadata": {
        "id": "4zRwEaAiuu5L"
      },
      "outputs": [],
      "source": [
        "# Split the data into training and test sets\n"
      ]
    },
    {
      "cell_type": "code",
      "execution_count": null,
      "metadata": {
        "id": "4wgJqQDluu5L"
      },
      "outputs": [],
      "source": [
        "# Create a logistic regression model and fit it to the training data\n",
        "# Use the solver 'liblinear'\n"
      ]
    },
    {
      "cell_type": "code",
      "execution_count": null,
      "metadata": {
        "id": "0FauNDUBuu5M"
      },
      "outputs": [],
      "source": [
        "# Use the model to predict the test data labels\n",
        "y_pred = ..."
      ]
    },
    {
      "cell_type": "code",
      "execution_count": null,
      "metadata": {
        "id": "BkzirUEluu5M",
        "outputId": "d74e9b01-ef37-409e-a71d-dbfa164468c0"
      },
      "outputs": [],
      "source": [
        "# Calculate the accuracy of the model\n",
        "accuracy = ...\n"
      ]
    }
  ],
  "metadata": {
    "colab": {
      "provenance": []
    },
    "kernelspec": {
      "display_name": "Python 3",
      "language": "python",
      "name": "python3"
    },
    "language_info": {
      "codemirror_mode": {
        "name": "ipython",
        "version": 3
      },
      "file_extension": ".py",
      "mimetype": "text/x-python",
      "name": "python",
      "nbconvert_exporter": "python",
      "pygments_lexer": "ipython3",
      "version": "3.10.3"
    },
    "orig_nbformat": 4
  },
  "nbformat": 4,
  "nbformat_minor": 0
}
